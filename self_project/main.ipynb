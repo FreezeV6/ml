{
 "cells": [
  {
   "metadata": {},
   "cell_type": "markdown",
   "source": "### Instalowanie pakietów",
   "id": "4dafe0edfc868041"
  },
  {
   "cell_type": "code",
   "id": "initial_id",
   "metadata": {
    "collapsed": true,
    "ExecuteTime": {
     "end_time": "2025-04-09T10:26:59.629039Z",
     "start_time": "2025-04-09T10:26:13.652900Z"
    }
   },
   "source": [
    "!pip install -U --no-cache-dir gdown==4.6.0 tensorflow-datasets --pre\n",
    "!pip install -U --no-cache-dir tensorflow numpy==1.26.4 scikit-learn matplotlib==3.7.3 pillow"
   ],
   "outputs": [
    {
     "name": "stdout",
     "output_type": "stream",
     "text": [
      "Requirement already satisfied: gdown==4.6.0 in c:\\users\\tarab\\pycharmprojects\\ml\\venv\\lib\\site-packages (4.6.0)\n",
      "Requirement already satisfied: tensorflow-datasets in c:\\users\\tarab\\pycharmprojects\\ml\\venv\\lib\\site-packages (4.9.8)\n",
      "Requirement already satisfied: filelock in c:\\users\\tarab\\appdata\\local\\programs\\python\\python311\\lib\\site-packages (from gdown==4.6.0) (3.12.2)\n",
      "Requirement already satisfied: requests[socks] in c:\\users\\tarab\\appdata\\local\\programs\\python\\python311\\lib\\site-packages (from gdown==4.6.0) (2.31.0)\n",
      "Requirement already satisfied: six in c:\\users\\tarab\\appdata\\local\\programs\\python\\python311\\lib\\site-packages (from gdown==4.6.0) (1.16.0)\n",
      "Requirement already satisfied: tqdm in c:\\users\\tarab\\appdata\\local\\programs\\python\\python311\\lib\\site-packages (from gdown==4.6.0) (4.65.0)\n",
      "Requirement already satisfied: beautifulsoup4 in c:\\users\\tarab\\pycharmprojects\\ml\\venv\\lib\\site-packages (from gdown==4.6.0) (4.13.3)\n",
      "Requirement already satisfied: absl-py in c:\\users\\tarab\\appdata\\local\\programs\\python\\python311\\lib\\site-packages (from tensorflow-datasets) (1.4.0)\n",
      "Requirement already satisfied: dm-tree in c:\\users\\tarab\\appdata\\local\\programs\\python\\python311\\lib\\site-packages (from tensorflow-datasets) (0.1.8)\n",
      "Requirement already satisfied: etils>=1.9.1 in c:\\users\\tarab\\pycharmprojects\\ml\\venv\\lib\\site-packages (from etils[edc,enp,epath,epy,etree]>=1.9.1; python_version >= \"3.11\"->tensorflow-datasets) (1.12.2)\n",
      "Requirement already satisfied: immutabledict in c:\\users\\tarab\\pycharmprojects\\ml\\venv\\lib\\site-packages (from tensorflow-datasets) (4.2.1)\n",
      "Requirement already satisfied: numpy in c:\\users\\tarab\\appdata\\local\\programs\\python\\python311\\lib\\site-packages (from tensorflow-datasets) (1.23.5)\n",
      "Requirement already satisfied: promise in c:\\users\\tarab\\appdata\\local\\programs\\python\\python311\\lib\\site-packages (from tensorflow-datasets) (2.3)\n",
      "Requirement already satisfied: protobuf>=3.20 in c:\\users\\tarab\\appdata\\local\\programs\\python\\python311\\lib\\site-packages (from tensorflow-datasets) (4.23.3)\n",
      "Requirement already satisfied: psutil in c:\\users\\tarab\\appdata\\local\\programs\\python\\python311\\lib\\site-packages (from tensorflow-datasets) (5.9.5)\n",
      "Requirement already satisfied: pyarrow in c:\\users\\tarab\\pycharmprojects\\ml\\venv\\lib\\site-packages (from tensorflow-datasets) (19.0.1)\n",
      "Requirement already satisfied: simple_parsing in c:\\users\\tarab\\pycharmprojects\\ml\\venv\\lib\\site-packages (from tensorflow-datasets) (0.1.7)\n",
      "Requirement already satisfied: tensorflow-metadata in c:\\users\\tarab\\appdata\\local\\programs\\python\\python311\\lib\\site-packages (from tensorflow-datasets) (1.13.1)\n",
      "Requirement already satisfied: termcolor in c:\\users\\tarab\\appdata\\local\\programs\\python\\python311\\lib\\site-packages (from tensorflow-datasets) (2.3.0)\n",
      "Requirement already satisfied: toml in c:\\users\\tarab\\appdata\\local\\programs\\python\\python311\\lib\\site-packages (from tensorflow-datasets) (0.10.2)\n",
      "Requirement already satisfied: wrapt in c:\\users\\tarab\\appdata\\local\\programs\\python\\python311\\lib\\site-packages (from tensorflow-datasets) (1.14.1)\n",
      "Requirement already satisfied: einops in c:\\users\\tarab\\pycharmprojects\\ml\\venv\\lib\\site-packages (from etils[edc,enp,epath,epy,etree]>=1.9.1; python_version >= \"3.11\"->tensorflow-datasets) (0.8.1)\n",
      "Requirement already satisfied: fsspec in c:\\users\\tarab\\appdata\\local\\programs\\python\\python311\\lib\\site-packages (from etils[edc,enp,epath,epy,etree]>=1.9.1; python_version >= \"3.11\"->tensorflow-datasets) (2023.6.0)\n",
      "Requirement already satisfied: importlib_resources in c:\\users\\tarab\\appdata\\local\\programs\\python\\python311\\lib\\site-packages (from etils[edc,enp,epath,epy,etree]>=1.9.1; python_version >= \"3.11\"->tensorflow-datasets) (5.12.0)\n",
      "Requirement already satisfied: typing_extensions in c:\\users\\tarab\\appdata\\local\\programs\\python\\python311\\lib\\site-packages (from etils[edc,enp,epath,epy,etree]>=1.9.1; python_version >= \"3.11\"->tensorflow-datasets) (4.7.1)\n",
      "Requirement already satisfied: zipp in c:\\users\\tarab\\appdata\\local\\programs\\python\\python311\\lib\\site-packages (from etils[edc,enp,epath,epy,etree]>=1.9.1; python_version >= \"3.11\"->tensorflow-datasets) (3.15.0)\n",
      "Requirement already satisfied: charset-normalizer<4,>=2 in c:\\users\\tarab\\appdata\\local\\programs\\python\\python311\\lib\\site-packages (from requests[socks]->gdown==4.6.0) (3.1.0)\n",
      "Requirement already satisfied: idna<4,>=2.5 in c:\\users\\tarab\\appdata\\local\\programs\\python\\python311\\lib\\site-packages (from requests[socks]->gdown==4.6.0) (3.4)\n",
      "Requirement already satisfied: urllib3<3,>=1.21.1 in c:\\users\\tarab\\appdata\\local\\programs\\python\\python311\\lib\\site-packages (from requests[socks]->gdown==4.6.0) (1.26.16)\n",
      "Requirement already satisfied: certifi>=2017.4.17 in c:\\users\\tarab\\appdata\\local\\programs\\python\\python311\\lib\\site-packages (from requests[socks]->gdown==4.6.0) (2023.5.7)\n",
      "Requirement already satisfied: soupsieve>1.2 in c:\\users\\tarab\\pycharmprojects\\ml\\venv\\lib\\site-packages (from beautifulsoup4->gdown==4.6.0) (2.6)\n",
      "Requirement already satisfied: PySocks!=1.5.7,>=1.5.6 in c:\\users\\tarab\\pycharmprojects\\ml\\venv\\lib\\site-packages (from requests[socks]->gdown==4.6.0) (1.7.1)\n",
      "Requirement already satisfied: docstring-parser<1.0,>=0.15 in c:\\users\\tarab\\pycharmprojects\\ml\\venv\\lib\\site-packages (from simple_parsing->tensorflow-datasets) (0.16)\n",
      "Requirement already satisfied: googleapis-common-protos<2,>=1.52.0 in c:\\users\\tarab\\appdata\\local\\programs\\python\\python311\\lib\\site-packages (from tensorflow-metadata->tensorflow-datasets) (1.59.1)\n",
      "Requirement already satisfied: colorama in c:\\users\\tarab\\appdata\\local\\programs\\python\\python311\\lib\\site-packages (from tqdm->gdown==4.6.0) (0.4.6)\n",
      "^C\n"
     ]
    }
   ],
   "execution_count": 3
  },
  {
   "metadata": {},
   "cell_type": "markdown",
   "source": "### Importy bibliotek",
   "id": "bfefe1033a03ad0c"
  },
  {
   "metadata": {
    "ExecuteTime": {
     "end_time": "2025-04-09T10:27:15.117847Z",
     "start_time": "2025-04-09T10:27:03.426984Z"
    }
   },
   "cell_type": "code",
   "source": [
    "import matplotlib.pyplot as plt\n",
    "import numpy as np\n",
    "import PIL\n",
    "import tensorflow as tf\n",
    "import glob\n",
    "import os\n",
    "import shutil\n",
    "import random\n",
    "import xml.etree.ElementTree as ET\n",
    "from sklearn.metrics import classification_report\n",
    "import zipfile\n",
    "import os\n",
    "\n",
    "from tensorflow import keras\n",
    "from tensorflow.keras import layers, optimizers, Input\n",
    "from tensorflow.keras.models import Sequential, Model\n",
    "from tensorflow.keras.layers import Dense, Dropout, Flatten, Conv2D, MaxPooling2D\n",
    "from tensorflow.keras.callbacks import EarlyStopping, ReduceLROnPlateau\n",
    "from tensorflow.keras.preprocessing import image_dataset_from_directory\n",
    "from tensorflow.keras.preprocessing.image import ImageDataGenerator\n",
    "\n",
    "print(\"Tensorflow version:\", tf.__version__)"
   ],
   "id": "1ad01e969701a640",
   "outputs": [
    {
     "name": "stdout",
     "output_type": "stream",
     "text": [
      "Tensorflow version: 2.12.0\n"
     ]
    }
   ],
   "execution_count": 4
  },
  {
   "metadata": {},
   "cell_type": "markdown",
   "source": "### Import danych",
   "id": "7ba50b6decbb9d8e"
  },
  {
   "metadata": {
    "ExecuteTime": {
     "end_time": "2025-04-09T10:27:47.183019Z",
     "start_time": "2025-04-09T10:27:18.922886Z"
    }
   },
   "cell_type": "code",
   "source": [
    "folder_path = r\"data\"\n",
    "\n",
    "if os.path.exists(folder_path):\n",
    "    shutil.rmtree(folder_path)\n",
    "os.makedirs(folder_path)\n",
    "\n",
    "with zipfile.ZipFile(\"archive.zip\", 'r') as zip_ref:\n",
    "    zip_ref.extractall(folder_path)"
   ],
   "id": "e254366dd39e29bc",
   "outputs": [],
   "execution_count": 5
  },
  {
   "metadata": {},
   "cell_type": "markdown",
   "source": "### Podgląd danych",
   "id": "5c9285520f2c7005"
  },
  {
   "metadata": {
    "ExecuteTime": {
     "end_time": "2025-04-09T10:28:17.259360Z",
     "start_time": "2025-04-09T10:28:17.113425Z"
    }
   },
   "cell_type": "code",
   "source": [
    "train_path = \"data/train\"\n",
    "test_path = \"data/test\"\n",
    "\n",
    "classes = ['angry', 'disgusted', 'fearful', 'happy', 'neutral', 'sad', 'surprised']\n",
    "\n",
    "for el in classes:\n",
    "    count_train = len(glob.glob(f\"{train_path}/{el}/*.png\"))\n",
    "    count_test = len(glob.glob(f\"{test_path}/{el}/*.png\"))\n",
    "    print(f\"{el.capitalize()}: {count_test + count_train} przykładów; {count_train} treningowych, {count_test} testowych\")"
   ],
   "id": "b552fa034ffe8c88",
   "outputs": [
    {
     "name": "stdout",
     "output_type": "stream",
     "text": [
      "Angry: 4953 przykładów; 3995 treningowych, 958 testowych\n",
      "Disgusted: 547 przykładów; 436 treningowych, 111 testowych\n",
      "Fearful: 5121 przykładów; 4097 treningowych, 1024 testowych\n",
      "Happy: 8989 przykładów; 7215 treningowych, 1774 testowych\n",
      "Neutral: 6198 przykładów; 4965 treningowych, 1233 testowych\n",
      "Sad: 6077 przykładów; 4830 treningowych, 1247 testowych\n",
      "Surprised: 4002 przykładów; 3171 treningowych, 831 testowych\n"
     ]
    }
   ],
   "execution_count": 6
  },
  {
   "metadata": {},
   "cell_type": "markdown",
   "source": "### Dodanie augmentacji",
   "id": "d34953038b1a7b8c"
  },
  {
   "metadata": {
    "ExecuteTime": {
     "end_time": "2025-04-09T10:28:59.195913Z",
     "start_time": "2025-04-09T10:28:59.190057Z"
    }
   },
   "cell_type": "code",
   "source": [
    "train_datagen = ImageDataGenerator(\n",
    "    rescale=1./255,\n",
    "    rotation_range=20,\n",
    "    width_shift_range=0.2,\n",
    "    height_shift_range=0.2,\n",
    "    shear_range=0.2,\n",
    "    zoom_range=0.2,\n",
    "    horizontal_flip=True,\n",
    "    fill_mode='nearest'\n",
    ")"
   ],
   "id": "24becd76aebd5f61",
   "outputs": [],
   "execution_count": 7
  },
  {
   "metadata": {
    "ExecuteTime": {
     "end_time": "2025-04-09T10:29:01.937658Z",
     "start_time": "2025-04-09T10:29:01.930794Z"
    }
   },
   "cell_type": "code",
   "source": [
    "CELLS_1 = 32\n",
    "CELLS_2 = 8\n",
    "LEARNING_RATE = 1e-4\n",
    "EPOCHS = 15\n",
    "\n",
    "BATCH_SIZE = 32\n",
    "IMAGE_HIGHT =48\n",
    "IMAGE_WIDTH = 48\n",
    "IMAGE_SIZE = (IMAGE_HIGHT, IMAGE_WIDTH)\n",
    "INPUT_SHAPE = (IMAGE_HIGHT, IMAGE_WIDTH, 1)\n",
    "\n",
    "CLASS_COUNT = 7"
   ],
   "id": "eb92db4b6b64061a",
   "outputs": [],
   "execution_count": 8
  },
  {
   "metadata": {
    "ExecuteTime": {
     "end_time": "2025-04-09T10:29:06.603266Z",
     "start_time": "2025-04-09T10:29:03.662822Z"
    }
   },
   "cell_type": "code",
   "source": [
    "train_ds = image_dataset_from_directory(\n",
    "    'data/train',\n",
    "    labels='inferred',\n",
    "    label_mode='categorical',\n",
    "    color_mode='grayscale',\n",
    "    batch_size=BATCH_SIZE,\n",
    "    image_size=(48, 48),\n",
    "    shuffle=True\n",
    ")"
   ],
   "id": "e2b556663532c5dd",
   "outputs": [
    {
     "name": "stdout",
     "output_type": "stream",
     "text": [
      "Found 28709 files belonging to 7 classes.\n"
     ]
    }
   ],
   "execution_count": 9
  },
  {
   "metadata": {
    "ExecuteTime": {
     "end_time": "2025-04-09T10:29:14.030947Z",
     "start_time": "2025-04-09T10:29:13.390216Z"
    }
   },
   "cell_type": "code",
   "source": [
    "val_ds = image_dataset_from_directory(\n",
    "    'data/test',\n",
    "    labels='inferred',\n",
    "    label_mode='categorical',\n",
    "    color_mode='grayscale',\n",
    "    batch_size=BATCH_SIZE,\n",
    "    image_size=(48, 48),\n",
    "    shuffle=False\n",
    ")"
   ],
   "id": "d5fa43949e68c15b",
   "outputs": [
    {
     "name": "stdout",
     "output_type": "stream",
     "text": [
      "Found 7178 files belonging to 7 classes.\n"
     ]
    }
   ],
   "execution_count": 10
  },
  {
   "metadata": {
    "ExecuteTime": {
     "end_time": "2025-04-09T10:29:17.684944Z",
     "start_time": "2025-04-09T10:29:17.434045Z"
    }
   },
   "cell_type": "code",
   "source": [
    "model = Sequential()\n",
    "model.add(Input(shape=INPUT_SHAPE))\n",
    "model.add(layers.Rescaling(1./255))\n",
    "model.add(layers.Conv2D(32, (3, 3), activation='relu'))\n",
    "model.add(layers.MaxPooling2D((2, 2)))\n",
    "model.add(layers.Conv2D(64, (3, 3), activation='relu'))\n",
    "model.add(layers.Dropout(0.5))\n",
    "model.add(layers.MaxPooling2D((2, 2)))\n",
    "model.add(layers.Conv2D(128, (3, 3), activation='relu'))\n",
    "model.add(layers.Dropout(0.2))\n",
    "model.add(layers.Conv2D(256, (3, 3), activation='relu'))\n",
    "model.add(layers.Dropout(0.5))\n",
    "model.add(layers.MaxPooling2D((2, 2)))\n",
    "model.add(layers.Flatten())\n",
    "\n",
    "model.add(Dense(CELLS_1, activation='relu'))\n",
    "model.add(Dropout(0.5))\n",
    "model.add(Dense(CELLS_2, activation='relu'))\n",
    "model.add(Dense(7, activation='softmax'))\n",
    "\n",
    "optimizer = optimizers.Adam(learning_rate=LEARNING_RATE)\n",
    "\n",
    "model.compile(loss='categorical_crossentropy', optimizer=optimizer, metrics=['accuracy'])\n",
    "\n",
    "model.summary()"
   ],
   "id": "775b0e065f675111",
   "outputs": [
    {
     "name": "stdout",
     "output_type": "stream",
     "text": [
      "Model: \"sequential\"\n",
      "_________________________________________________________________\n",
      " Layer (type)                Output Shape              Param #   \n",
      "=================================================================\n",
      " rescaling (Rescaling)       (None, 48, 48, 1)         0         \n",
      "                                                                 \n",
      " conv2d (Conv2D)             (None, 46, 46, 32)        320       \n",
      "                                                                 \n",
      " max_pooling2d (MaxPooling2D  (None, 23, 23, 32)       0         \n",
      " )                                                               \n",
      "                                                                 \n",
      " conv2d_1 (Conv2D)           (None, 21, 21, 64)        18496     \n",
      "                                                                 \n",
      " dropout (Dropout)           (None, 21, 21, 64)        0         \n",
      "                                                                 \n",
      " max_pooling2d_1 (MaxPooling  (None, 10, 10, 64)       0         \n",
      " 2D)                                                             \n",
      "                                                                 \n",
      " conv2d_2 (Conv2D)           (None, 8, 8, 128)         73856     \n",
      "                                                                 \n",
      " dropout_1 (Dropout)         (None, 8, 8, 128)         0         \n",
      "                                                                 \n",
      " conv2d_3 (Conv2D)           (None, 6, 6, 256)         295168    \n",
      "                                                                 \n",
      " dropout_2 (Dropout)         (None, 6, 6, 256)         0         \n",
      "                                                                 \n",
      " max_pooling2d_2 (MaxPooling  (None, 3, 3, 256)        0         \n",
      " 2D)                                                             \n",
      "                                                                 \n",
      " flatten (Flatten)           (None, 2304)              0         \n",
      "                                                                 \n",
      " dense (Dense)               (None, 32)                73760     \n",
      "                                                                 \n",
      " dropout_3 (Dropout)         (None, 32)                0         \n",
      "                                                                 \n",
      " dense_1 (Dense)             (None, 8)                 264       \n",
      "                                                                 \n",
      " dense_2 (Dense)             (None, 7)                 63        \n",
      "                                                                 \n",
      "=================================================================\n",
      "Total params: 461,927\n",
      "Trainable params: 461,927\n",
      "Non-trainable params: 0\n",
      "_________________________________________________________________\n"
     ]
    }
   ],
   "execution_count": 11
  },
  {
   "metadata": {
    "ExecuteTime": {
     "end_time": "2025-04-09T10:30:05.833338Z",
     "start_time": "2025-04-09T10:30:05.827270Z"
    }
   },
   "cell_type": "code",
   "source": [
    "early_stopping = EarlyStopping(monitor='val_loss', patience=10, restore_best_weights=True)\n",
    "reduce_lr = ReduceLROnPlateau(monitor='val_loss', factor=0.5, patience=5)"
   ],
   "id": "7c7e6e5eded9150c",
   "outputs": [],
   "execution_count": 12
  },
  {
   "metadata": {
    "ExecuteTime": {
     "end_time": "2025-04-09T10:58:02.695718Z",
     "start_time": "2025-04-09T10:30:08.294363Z"
    }
   },
   "cell_type": "code",
   "source": [
    "history = model.fit(x=train_ds,\n",
    "                    batch_size = BATCH_SIZE,\n",
    "                    epochs=EPOCHS,\n",
    "                    validation_data=val_ds)"
   ],
   "id": "a3aa3e2abb0d800c",
   "outputs": [
    {
     "name": "stdout",
     "output_type": "stream",
     "text": [
      "Epoch 1/15\n",
      "898/898 [==============================] - 172s 188ms/step - loss: 1.9012 - accuracy: 0.1709 - val_loss: 1.8875 - val_accuracy: 0.1743\n",
      "Epoch 2/15\n",
      "898/898 [==============================] - 83s 92ms/step - loss: 1.8225 - accuracy: 0.2070 - val_loss: 1.7994 - val_accuracy: 0.3327\n",
      "Epoch 3/15\n",
      "898/898 [==============================] - 88s 98ms/step - loss: 1.7299 - accuracy: 0.3035 - val_loss: 1.7447 - val_accuracy: 0.3532\n",
      "Epoch 4/15\n",
      "898/898 [==============================] - 88s 98ms/step - loss: 1.6752 - accuracy: 0.3413 - val_loss: 1.6869 - val_accuracy: 0.3598\n",
      "Epoch 5/15\n",
      "898/898 [==============================] - 90s 100ms/step - loss: 1.6322 - accuracy: 0.3561 - val_loss: 1.6642 - val_accuracy: 0.3820\n",
      "Epoch 6/15\n",
      "898/898 [==============================] - 90s 100ms/step - loss: 1.5963 - accuracy: 0.3677 - val_loss: 1.6481 - val_accuracy: 0.3929\n",
      "Epoch 7/15\n",
      "898/898 [==============================] - 105s 117ms/step - loss: 1.5642 - accuracy: 0.3789 - val_loss: 1.6143 - val_accuracy: 0.4069\n",
      "Epoch 8/15\n",
      "898/898 [==============================] - 124s 138ms/step - loss: 1.5366 - accuracy: 0.3945 - val_loss: 1.5791 - val_accuracy: 0.4175\n",
      "Epoch 9/15\n",
      "898/898 [==============================] - 114s 127ms/step - loss: 1.5106 - accuracy: 0.4045 - val_loss: 1.5702 - val_accuracy: 0.4167\n",
      "Epoch 10/15\n",
      "898/898 [==============================] - 109s 122ms/step - loss: 1.4865 - accuracy: 0.4164 - val_loss: 1.5361 - val_accuracy: 0.4276\n",
      "Epoch 11/15\n",
      "898/898 [==============================] - 111s 123ms/step - loss: 1.4669 - accuracy: 0.4258 - val_loss: 1.5215 - val_accuracy: 0.4337\n",
      "Epoch 12/15\n",
      "898/898 [==============================] - 143s 159ms/step - loss: 1.4460 - accuracy: 0.4325 - val_loss: 1.5094 - val_accuracy: 0.4361\n",
      "Epoch 13/15\n",
      "898/898 [==============================] - 149s 166ms/step - loss: 1.4354 - accuracy: 0.4378 - val_loss: 1.4925 - val_accuracy: 0.4480\n",
      "Epoch 14/15\n",
      "898/898 [==============================] - 104s 115ms/step - loss: 1.4181 - accuracy: 0.4451 - val_loss: 1.4659 - val_accuracy: 0.4560\n",
      "Epoch 15/15\n",
      "898/898 [==============================] - 103s 115ms/step - loss: 1.4028 - accuracy: 0.4506 - val_loss: 1.4568 - val_accuracy: 0.4568\n"
     ]
    }
   ],
   "execution_count": 13
  },
  {
   "metadata": {
    "ExecuteTime": {
     "end_time": "2025-04-09T10:58:23.359180Z",
     "start_time": "2025-04-09T10:58:22.459424Z"
    }
   },
   "cell_type": "code",
   "source": [
    "def plot_train_valid_history(history):\n",
    "    epochs = np.arange(len(history.history['val_loss'])) + 1\n",
    "    fig = plt.figure(figsize=(8, 4))\n",
    "    if 'accuracy' in history.history:\n",
    "        ax1 = fig.add_subplot(121)\n",
    "        ax1.plot(epochs, history.history['loss'], c='b', label='Train loss')\n",
    "        ax1.plot(epochs, history.history['val_loss'], c='g', label='Valid loss')\n",
    "        plt.legend(loc='lower left')\n",
    "        plt.grid(True)\n",
    "\n",
    "        ax1 = fig.add_subplot(122)\n",
    "        ax1.plot(epochs, history.history['accuracy'], c='b', label='Train acc')\n",
    "        ax1.plot(epochs, history.history['val_accuracy'], c='g', label='Valid acc')\n",
    "        plt.legend(loc='lower right')\n",
    "        plt.grid(True)\n",
    "\n",
    "\n",
    "    else:\n",
    "        ax1 = fig.add_subplot(111)\n",
    "        ax1.plot(epochs, history.history['loss'], c='b', label='Train loss')\n",
    "        ax1.plot(epochs, history.history['val_loss'], c='g', label='Valid loss')\n",
    "        plt.legend(loc='lower left')\n",
    "        plt.grid(True)\n",
    "    plt.show()\n",
    "\n",
    "\n",
    "plot_train_valid_history(history)"
   ],
   "id": "de2ad3ede029a694",
   "outputs": [
    {
     "data": {
      "text/plain": [
       "<Figure size 800x400 with 2 Axes>"
      ],
      "image/png": "[encoded data removed]"
     },
     "metadata": {},
     "output_type": "display_data"
    }
   ],
   "execution_count": 14
  }
 ],
 "metadata": {
  "kernelspec": {
   "display_name": "Python 3",
   "language": "python",
   "name": "python3"
  },
  "language_info": {
   "codemirror_mode": {
    "name": "ipython",
    "version": 2
   },
   "file_extension": ".py",
   "mimetype": "text/x-python",
   "name": "python",
   "nbconvert_exporter": "python",
   "pygments_lexer": "ipython2",
   "version": "2.7.6"
  }
 },
 "nbformat": 4,
 "nbformat_minor": 5
}
