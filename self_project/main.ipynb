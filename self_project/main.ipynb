version https://git-lfs.github.com/spec/v1
oid sha256:501e4959916ac37dda541837d416d53329ead4c8573b23823a2a227a083cbf7e
size 72249
