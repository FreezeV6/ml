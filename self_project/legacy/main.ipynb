version https://git-lfs.github.com/spec/v1
oid sha256:ca7cf63079523f29ccfa13f2406fe85919735c5591aa4dd25e0bdffa66e8f4bf
size 107050
