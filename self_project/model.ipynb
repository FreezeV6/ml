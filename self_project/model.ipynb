version https://git-lfs.github.com/spec/v1
oid sha256:4e0e47b4ea23e869e05c62d13949f49713ec5d28c89faf130b4dbd47727a806d
size 414783
