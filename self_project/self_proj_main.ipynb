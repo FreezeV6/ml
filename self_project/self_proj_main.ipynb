version https://git-lfs.github.com/spec/v1
oid sha256:4c94459c4189d7cac7a9d826f1b76f918852de8aea3703eb37774728e5a36a91
size 170055
